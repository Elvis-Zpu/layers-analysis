{
 "cells": [
  {
   "cell_type": "markdown",
   "metadata": {},
   "source": [
    "# CLIP on BUSI Breast Ultrasound Dataset\n"
   ]
  },
  {
   "cell_type": "code",
   "execution_count": null,
   "metadata": {},
   "outputs": [],
   "source": [
    "import os\n",
    "import torch\n",
    "import clip\n",
    "import numpy as np\n",
    "from tqdm import tqdm\n",
    "from PIL import Image\n",
    "from torchvision import transforms\n",
    "from torch.utils.data import Dataset, DataLoader, random_split\n",
    "import torch.nn as nn\n",
    "import torch.optim as optim"
   ]
  },
  {
   "cell_type": "code",
   "execution_count": 2,
   "metadata": {},
   "outputs": [
    {
     "name": "stdout",
     "output_type": "stream",
     "text": [
      "Using device: cpu\n"
     ]
    }
   ],
   "source": [
    "device = \"cuda\" if torch.cuda.is_available() else \"cpu\"\n",
    "print(f\"Using device: {device}\")"
   ]
  },
  {
   "cell_type": "markdown",
   "metadata": {},
   "source": [
    "## BUSI Dataset Loader"
   ]
  },
  {
   "cell_type": "code",
   "execution_count": null,
   "metadata": {},
   "outputs": [],
   "source": [
    "class BreastUltrasoundDataset(Dataset):\n",
    "\n",
    "    def __init__(self, image_dir, transform=None, max_samples=None):\n",
    "        self.image_dir = image_dir\n",
    "        self.transform = transform\n",
    "        self.class_names = [\"normal\", \"benign\", \"malignant\"]\n",
    "        samples = []\n",
    "\n",
    "        for idx, class_name in enumerate(self.class_names):\n",
    "            class_folder = os.path.join(image_dir, class_name)\n",
    "            # Only include original images, skip mask files\n",
    "            image_files = [\n",
    "                f for f in os.listdir(class_folder)\n",
    "                if f.lower().endswith('.png')\n",
    "                and \"_mask\" not in f.lower()\n",
    "            ]\n",
    "            image_files.sort()  # Consistent order\n",
    "\n",
    "            for filename in image_files:\n",
    "                path = os.path.join(class_folder, filename)\n",
    "                samples.append((path, idx))\n",
    "\n",
    "        if max_samples is not None:\n",
    "            samples = samples[:max_samples]\n",
    "\n",
    "        self.samples = samples\n",
    "\n",
    "    def __len__(self):\n",
    "        return len(self.samples)\n",
    "\n",
    "    def __getitem__(self, idx):\n",
    "        path, label = self.samples[idx]\n",
    "        image = Image.open(path).convert(\"RGB\")\n",
    "        if self.transform:\n",
    "            image = self.transform(image)\n",
    "        label = torch.tensor(label, dtype=torch.long)\n",
    "        return image, label"
   ]
  },
  {
   "cell_type": "markdown",
   "metadata": {},
   "source": [
    "## Data Preparation"
   ]
  },
  {
   "cell_type": "code",
   "execution_count": null,
   "metadata": {},
   "outputs": [
    {
     "name": "stdout",
     "output_type": "stream",
     "text": [
      "Train/val split: 624/156\n"
     ]
    }
   ],
   "source": [
    "image_root_dir = \"./data/Dataset_BUSI_with_GT\"\n",
    "class_names = [\"normal\", \"benign\", \"malignant\"]\n",
    "\n",
    "preprocess = transforms.Compose([\n",
    "    transforms.Resize((224, 224)),\n",
    "    transforms.ToTensor(),\n",
    "    transforms.Normalize(\n",
    "        mean=(0.48145466, 0.4578275, 0.40821073), \n",
    "        std=(0.26862954, 0.26130258, 0.27577711)\n",
    "    )\n",
    "])\n",
    "\n",
    "full_dataset = BreastUltrasoundDataset(image_root_dir, transform=preprocess)\n",
    "\n",
    "generator = torch.Generator().manual_seed(42)\n",
    "train_size = int(0.8 * len(full_dataset))\n",
    "val_size = len(full_dataset) - train_size\n",
    "\n",
    "train_dataset, val_dataset = random_split(\n",
    "    full_dataset,\n",
    "    [train_size, val_size],\n",
    "    generator=generator\n",
    ")\n",
    "\n",
    "batch_size = 4\n",
    "\n",
    "train_loader = DataLoader(\n",
    "    train_dataset, \n",
    "    batch_size=batch_size, \n",
    "    shuffle=True, \n",
    "    num_workers=0, \n",
    "    pin_memory=True\n",
    ")\n",
    "val_loader = DataLoader(\n",
    "    val_dataset, \n",
    "    batch_size=batch_size, \n",
    "    shuffle=False, \n",
    "    num_workers=0, \n",
    "    pin_memory=True\n",
    ")\n",
    "\n",
    "print(f\"Train/val split: {len(train_dataset)}/{len(val_dataset)}\")"
   ]
  },
  {
   "cell_type": "markdown",
   "metadata": {},
   "source": [
    "## Load CLIP Model"
   ]
  },
  {
   "cell_type": "code",
   "execution_count": 5,
   "metadata": {},
   "outputs": [
    {
     "name": "stdout",
     "output_type": "stream",
     "text": [
      "Loaded CLIP: ViT-B/32\n"
     ]
    }
   ],
   "source": [
    "model_name = \"ViT-B/32\"\n",
    "clip_model, _ = clip.load(model_name, device=device)\n",
    "clip_model.eval()\n",
    "print(f\"Loaded CLIP: {model_name}\")"
   ]
  },
  {
   "cell_type": "markdown",
   "metadata": {},
   "source": [
    "## Zero-Shot Evaluation"
   ]
  },
  {
   "cell_type": "code",
   "execution_count": 13,
   "metadata": {},
   "outputs": [
    {
     "name": "stderr",
     "output_type": "stream",
     "text": [
      "Evaluating: 100%|██████████| 39/39 [00:10<00:00,  3.78it/s]"
     ]
    },
    {
     "name": "stdout",
     "output_type": "stream",
     "text": [
      "Zero-shot accuracy: 25.00%\n"
     ]
    },
    {
     "name": "stderr",
     "output_type": "stream",
     "text": [
      "\n"
     ]
    }
   ],
   "source": [
    "def evaluate_clip_on_dataset(model, dataloader, class_names):\n",
    "    correct = 0\n",
    "    total = 0\n",
    "    prompts = [f'an ultrasound image of {c} breast tissue' for c in class_names]\n",
    "    text_tokens = clip.tokenize(prompts).to(device)\n",
    "    with torch.no_grad():\n",
    "        text_features = model.encode_text(text_tokens)\n",
    "        text_features /= text_features.norm(dim=-1, keepdim=True)\n",
    "    with torch.no_grad():\n",
    "        for images, labels in tqdm(dataloader, desc=\"Evaluating\"):\n",
    "            images, labels = images.to(device), labels.to(device)\n",
    "            batch_size = images.shape[0]\n",
    "            chunk_size = 2\n",
    "            all_predictions = []\n",
    "            for i in range(0, batch_size, chunk_size):\n",
    "                chunk_images = images[i:i+chunk_size]\n",
    "                chunk_image_features = model.encode_image(chunk_images)\n",
    "                chunk_image_features /= chunk_image_features.norm(dim=-1, keepdim=True)\n",
    "                chunk_similarity = chunk_image_features @ text_features.T\n",
    "                _, chunk_predicted = chunk_similarity.max(1)\n",
    "                all_predictions.extend(chunk_predicted.tolist())\n",
    "            predictions = torch.tensor(all_predictions, device=device)\n",
    "            total += labels.size(0)\n",
    "            correct += (predictions == labels).sum().item()\n",
    "    accuracy = 100 * correct / total\n",
    "    print(f\"Zero-shot accuracy: {accuracy:.2f}%\")\n",
    "    return accuracy\n",
    "\n",
    "clip_zeroshot_acc = evaluate_clip_on_dataset(clip_model, val_loader, class_names)"
   ]
  },
  {
   "cell_type": "markdown",
   "metadata": {},
   "source": [
    "## Fine-Tuning: Linear Layer on CLIP Visual Features"
   ]
  },
  {
   "cell_type": "code",
   "execution_count": null,
   "metadata": {},
   "outputs": [],
   "source": [
    "class CLIPFineTuner:\n",
    "    \"\"\"\n",
    "    Fine-tuning class for CLIP on BUSI dataset (or similar).\n",
    "    - Freezes CLIP encoder and only trains a classifier head.\n",
    "    \"\"\"\n",
    "\n",
    "    def __init__(self, clip_model, class_count, device, learning_rate=1e-3):\n",
    "        self.device = device\n",
    "        # Freeze\n",
    "        self.clip_model = clip_model.eval().to(device)\n",
    "        for param in self.clip_model.parameters():\n",
    "            param.requires_grad = False\n",
    "        feature_dim = clip_model.visual.output_dim\n",
    "        self.classifier = nn.Linear(feature_dim, class_count).to(device)\n",
    "        self.optimizer = optim.Adam(self.classifier.parameters(), lr=learning_rate)\n",
    "        self.loss_fn = nn.CrossEntropyLoss()\n",
    "\n",
    "    def train_step(self, images, labels):\n",
    "        self.optimizer.zero_grad()\n",
    "\n",
    "        with torch.no_grad():\n",
    "            image_features = self.clip_model.encode_image(images)\n",
    "\n",
    "        logits = self.classifier(image_features)\n",
    "        loss = self.loss_fn(logits, labels)\n",
    "        loss.backward()\n",
    "        self.optimizer.step()\n",
    "\n",
    "        return loss.item()\n",
    "\n",
    "    def train_epoch(self, dataloader):\n",
    "        self.clip_model.eval()                  \n",
    "        self.classifier.train()\n",
    "        total_loss, correct, total_samples, batch_count = 0, 0, 0, 0\n",
    "\n",
    "        for images, labels in tqdm(dataloader, desc=\"Training\"):\n",
    "            images = images.to(self.device)\n",
    "            labels = labels.to(self.device)\n",
    "\n",
    "            loss = self.train_step(images, labels)\n",
    "            total_loss += loss\n",
    "\n",
    "            with torch.no_grad():\n",
    "                image_features = self.clip_model.encode_image(images)\n",
    "                logits = self.classifier(image_features)\n",
    "                predictions = logits.argmax(dim=1)\n",
    "                correct += (predictions == labels).sum().item()\n",
    "                total_samples += labels.size(0)\n",
    "            batch_count += 1\n",
    "\n",
    "        avg_loss = total_loss / batch_count if batch_count > 0 else 0\n",
    "        train_acc = 100.0 * correct / total_samples if total_samples > 0 else 0\n",
    "\n",
    "        return avg_loss, train_acc\n",
    "\n",
    "    def evaluate(self, dataloader):\n",
    "        self.clip_model.eval()\n",
    "        self.classifier.eval()\n",
    "\n",
    "        correct, total, val_loss, batch_count = 0, 0, 0, 0\n",
    "\n",
    "        with torch.no_grad():\n",
    "            for images, labels in tqdm(dataloader, desc=\"Evaluating\"):\n",
    "                images = images.to(self.device)\n",
    "                labels = labels.to(self.device)\n",
    "                image_features = self.clip_model.encode_image(images)\n",
    "                logits = self.classifier(image_features)\n",
    "                predictions = logits.argmax(dim=1)\n",
    "                correct += (predictions == labels).sum().item()\n",
    "                total += labels.size(0)\n",
    "                val_loss += self.loss_fn(logits, labels).item()\n",
    "                batch_count += 1\n",
    "\n",
    "        accuracy = 100.0 * correct / total if total > 0 else 0\n",
    "        avg_loss = val_loss / batch_count if batch_count > 0 else 0\n",
    "\n",
    "        print(f\"Validation accuracy: {accuracy:.2f}%, avg loss: {avg_loss:.4f}\")\n",
    "        return accuracy, avg_loss"
   ]
  },
  {
   "cell_type": "code",
   "execution_count": 9,
   "metadata": {},
   "outputs": [],
   "source": [
    "def save_model(model, optimizer, epoch, path=\"saved_models/fine_tuned_clip_busi.pt\"):\n",
    "    os.makedirs(os.path.dirname(path), exist_ok=True)\n",
    "    checkpoint = {\n",
    "        'epoch': epoch,\n",
    "        'model_state_dict': model.classifier.state_dict(),\n",
    "        'optimizer_state_dict': optimizer.state_dict()\n",
    "    }\n",
    "    torch.save(checkpoint, path)\n",
    "    print(f\"Model saved at epoch {epoch + 1} to: {path}\")\n",
    "\n",
    "def load_fine_tuned_model(model, optimizer=None, path=\"saved_models/fine_tuned_clip_busi.pt\", device='cpu'):\n",
    "    if not os.path.exists(path):\n",
    "        print(f\"No saved model found at: {path}. Ensure the path is correct.\")\n",
    "        return None, None, None\n",
    "\n",
    "    checkpoint = torch.load(path, map_location=device)\n",
    "    model.classifier.load_state_dict(checkpoint['model_state_dict'])\n",
    "    epoch = checkpoint.get('epoch', None)\n",
    "\n",
    "    if optimizer is not None and 'optimizer_state_dict' in checkpoint:\n",
    "        optimizer.load_state_dict(checkpoint['optimizer_state_dict'])\n",
    "        print(f\"Successfully loaded fine-tuned model and optimizer from: {path}\")\n",
    "    else:\n",
    "        print(f\"Successfully loaded fine-tuned model from: {path}\")\n",
    "\n",
    "    return model, optimizer, epoch"
   ]
  },
  {
   "cell_type": "markdown",
   "metadata": {},
   "source": [
    "## Run Training & Evaluation"
   ]
  },
  {
   "cell_type": "code",
   "execution_count": 23,
   "metadata": {},
   "outputs": [
    {
     "name": "stdout",
     "output_type": "stream",
     "text": [
      "\n",
      "Epoch 1/3\n"
     ]
    },
    {
     "name": "stderr",
     "output_type": "stream",
     "text": [
      "Training: 100%|██████████| 156/156 [01:04<00:00,  2.42it/s]\n"
     ]
    },
    {
     "name": "stdout",
     "output_type": "stream",
     "text": [
      "Train loss: 0.8707 | Train acc: 61.06%\n",
      "  Layerwise mean gradients: {'weight': '2.1101e-02', 'bias': '5.1758e-02'}\n"
     ]
    },
    {
     "name": "stderr",
     "output_type": "stream",
     "text": [
      "Evaluating: 100%|██████████| 39/39 [00:08<00:00,  4.39it/s]\n"
     ]
    },
    {
     "name": "stdout",
     "output_type": "stream",
     "text": [
      "Validation accuracy: 50.00%, avg loss: 0.9119\n",
      "Val acc: 50.00% | Val loss: 0.9119\n",
      "\n",
      "Epoch 2/3\n"
     ]
    },
    {
     "name": "stderr",
     "output_type": "stream",
     "text": [
      "Training: 100%|██████████| 156/156 [01:05<00:00,  2.38it/s]\n"
     ]
    },
    {
     "name": "stdout",
     "output_type": "stream",
     "text": [
      "Train loss: 0.7424 | Train acc: 67.63%\n",
      "  Layerwise mean gradients: {'weight': '5.6116e-02', 'bias': '2.0078e-01'}\n"
     ]
    },
    {
     "name": "stderr",
     "output_type": "stream",
     "text": [
      "Evaluating: 100%|██████████| 39/39 [00:09<00:00,  4.32it/s]\n"
     ]
    },
    {
     "name": "stdout",
     "output_type": "stream",
     "text": [
      "Validation accuracy: 66.03%, avg loss: 0.7515\n",
      "Val acc: 66.03% | Val loss: 0.7515\n",
      "\n",
      "Epoch 3/3\n"
     ]
    },
    {
     "name": "stderr",
     "output_type": "stream",
     "text": [
      "Training: 100%|██████████| 156/156 [01:05<00:00,  2.38it/s]\n"
     ]
    },
    {
     "name": "stdout",
     "output_type": "stream",
     "text": [
      "Train loss: 0.6661 | Train acc: 73.72%\n",
      "  Layerwise mean gradients: {'weight': '4.8978e-02', 'bias': '1.7882e-01'}\n"
     ]
    },
    {
     "name": "stderr",
     "output_type": "stream",
     "text": [
      "Evaluating: 100%|██████████| 39/39 [00:09<00:00,  4.30it/s]"
     ]
    },
    {
     "name": "stdout",
     "output_type": "stream",
     "text": [
      "Validation accuracy: 71.79%, avg loss: 0.7047\n",
      "Val acc: 71.79% | Val loss: 0.7047\n",
      "Model saved at epoch 3 to: saved_models/fine_tuned_clip_busi.pt\n",
      "\n",
      "Collected layerwise gradients matrix (shape (2, 3)):\n",
      "  Rows:  ['weight', 'bias']\n",
      "  Columns: epochs (per column)\n",
      "[[0.02110091 0.05611638 0.0489777 ]\n",
      " [0.05175827 0.20078194 0.17881726]]\n"
     ]
    },
    {
     "name": "stderr",
     "output_type": "stream",
     "text": [
      "\n"
     ]
    }
   ],
   "source": [
    "import numpy as np\n",
    "\n",
    "num_epochs = 3\n",
    "tuner = CLIPFineTuner(clip_model, len(class_names), device)\n",
    "\n",
    "# For tracking per-layer gradients\n",
    "layer_names = [name for name, _ in tuner.classifier.named_parameters()]\n",
    "num_layers = len(layer_names)\n",
    "layerwise_grads = np.zeros((num_layers, num_epochs))\n",
    "\n",
    "# For tracking overall loss/accuracy\n",
    "losses = []\n",
    "train_accuracies = []\n",
    "val_accuracies = []\n",
    "\n",
    "for epoch in range(num_epochs):\n",
    "    print(f\"\\nEpoch {epoch+1}/{num_epochs}\")\n",
    "\n",
    "    # Train for one epoch\n",
    "    train_loss, train_acc = tuner.train_epoch(train_loader)\n",
    "    print(f\"Train loss: {train_loss:.4f} | Train acc: {train_acc:.2f}%\")\n",
    "\n",
    "    # Collect gradients after training epoch\n",
    "    epoch_grads = []\n",
    "    for idx, (name, param) in enumerate(tuner.classifier.named_parameters()):\n",
    "        grad_value = param.grad\n",
    "        if grad_value is not None:\n",
    "            mean_grad = grad_value.abs().mean().cpu().item()\n",
    "        else:\n",
    "            mean_grad = 0.0\n",
    "        layerwise_grads[idx, epoch] = mean_grad\n",
    "        epoch_grads.append(mean_grad)\n",
    "    print(\"  Layerwise mean gradients:\", {name: f\"{val:.4e}\" for name, val in zip(layer_names, epoch_grads)})\n",
    "\n",
    "    # Validate after one epoch\n",
    "    val_acc, val_loss = tuner.evaluate(val_loader)\n",
    "    print(f\"Val acc: {val_acc:.2f}% | Val loss: {val_loss:.4f}\")\n",
    "\n",
    "    # Store metrics for later plotting/analysis\n",
    "    losses.append(train_loss)\n",
    "    train_accuracies.append(train_acc)\n",
    "    val_accuracies.append(val_acc)\n",
    "\n",
    "# After training loop is done:\n",
    "save_model(tuner, tuner.optimizer, num_epochs - 1, path=\"saved_models/fine_tuned_clip_busi.pt\")\n",
    "print(\"\\nCollected layerwise gradients matrix (shape {}):\".format(layerwise_grads.shape))\n",
    "print(\"  Rows: \", layer_names)\n",
    "print(\"  Columns: epochs (per column)\")\n",
    "print(layerwise_grads)"
   ]
  },
  {
   "cell_type": "code",
   "execution_count": 24,
   "metadata": {},
   "outputs": [
    {
     "data": {
      "image/png": "[encoded data removed]",
      "text/plain": [
       "<Figure size 800x400 with 2 Axes>"
      ]
     },
     "metadata": {},
     "output_type": "display_data"
    }
   ],
   "source": [
    "import matplotlib.pyplot as plt\n",
    "import numpy as np\n",
    "plt.figure(figsize=(8, 4))\n",
    "im = plt.imshow(layerwise_grads, aspect='auto', cmap='hot')\n",
    "plt.colorbar(im, label='Mean Gradient')\n",
    "plt.xticks(range(num_epochs), [f'Epoch {i+1}' for i in range(num_epochs)])\n",
    "plt.yticks(range(num_layers), layer_names)\n",
    "plt.xlabel('Epoch')\n",
    "plt.ylabel('Layer')\n",
    "plt.title('Layer-wise Mean Gradients Over Epochs')\n",
    "plt.tight_layout()\n",
    "plt.show()"
   ]
  },
  {
   "cell_type": "code",
   "execution_count": 25,
   "metadata": {},
   "outputs": [
    {
     "data": {
      "image/png": "[encoded data removed]",
      "text/plain": [
       "<Figure size 900x400 with 1 Axes>"
      ]
     },
     "metadata": {},
     "output_type": "display_data"
    },
    {
     "data": {
      "image/png": "[encoded data removed]",
      "text/plain": [
       "<Figure size 900x400 with 1 Axes>"
      ]
     },
     "metadata": {},
     "output_type": "display_data"
    }
   ],
   "source": [
    "import matplotlib.pyplot as plt\n",
    "import numpy as np\n",
    "\n",
    "plt.figure()\n",
    "plt.title('Training Loss over Epochs')\n",
    "plt.plot(losses, marker='o', label='Training Loss')\n",
    "plt.xlabel('Epoch')\n",
    "plt.ylabel('Loss')\n",
    "plt.gcf().set_size_inches(9, 4)\n",
    "plt.legend(loc='upper right')\n",
    "plt.show()\n",
    "plt.figure()\n",
    "plt.title('Training and Validation Accuracies over Epochs')\n",
    "plt.plot(train_accuracies, '-o', label='Training Accuracy')\n",
    "plt.plot(val_accuracies, '-o', label='Validation Accuracy')\n",
    "plt.xlabel('Epoch')\n",
    "plt.ylabel('Accuracy (%)')\n",
    "plt.legend(['Training', 'Validation'], loc='upper left')\n",
    "plt.gcf().set_size_inches(9, 4)\n",
    "plt.show()"
   ]
  }
 ],
 "metadata": {
  "kernelspec": {
   "display_name": "clip",
   "language": "python",
   "name": "python3"
  },
  "language_info": {
   "codemirror_mode": {
    "name": "ipython",
    "version": 3
   },
   "file_extension": ".py",
   "mimetype": "text/x-python",
   "name": "python",
   "nbconvert_exporter": "python",
   "pygments_lexer": "ipython3",
   "version": "3.8.20"
  }
 },
 "nbformat": 4,
 "nbformat_minor": 2
}
