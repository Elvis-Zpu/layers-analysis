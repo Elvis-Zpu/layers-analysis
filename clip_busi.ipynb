{
 "cells": [
  {
   "cell_type": "markdown",
   "metadata": {},
   "source": [
    "# CLIP on BUSI Breast Ultrasound Dataset\n"
   ]
  },
  {
   "cell_type": "code",
   "execution_count": 1,
   "metadata": {},
   "outputs": [],
   "source": [
    "# Imports\n",
    "import os\n",
    "import torch\n",
    "import clip\n",
    "import numpy as np\n",
    "from tqdm import tqdm\n",
    "from PIL import Image\n",
    "from torchvision import transforms\n",
    "from torch.utils.data import Dataset, DataLoader, random_split\n",
    "import torch.nn as nn\n",
    "import torch.optim as optim"
   ]
  },
  {
   "cell_type": "code",
   "execution_count": 2,
   "metadata": {},
   "outputs": [
    {
     "name": "stdout",
     "output_type": "stream",
     "text": [
      "Using device: cpu\n"
     ]
    }
   ],
   "source": [
    "# Set device\n",
    "device = \"cuda\" if torch.cuda.is_available() else \"cpu\"\n",
    "print(f\"Using device: {device}\")"
   ]
  },
  {
   "cell_type": "markdown",
   "metadata": {},
   "source": [
    "## Custom BUSI Dataset Loader"
   ]
  },
  {
   "cell_type": "code",
   "execution_count": 3,
   "metadata": {},
   "outputs": [],
   "source": [
    "class BreastUltrasoundDataset(Dataset):\n",
    "    \"\"\"Custom Dataset for Breast Ultrasound Images.\"\"\"\n",
    "    def __init__(self, image_dir, transform=None, max_samples=None):\n",
    "        self.image_dir = image_dir\n",
    "        self.transform = transform\n",
    "        self.class_names = [\"normal\", \"benign\", \"malignant\"]\n",
    "        samples = []\n",
    "        for idx, class_name in enumerate(self.class_names):\n",
    "            class_folder = os.path.join(image_dir, class_name)\n",
    "            image_files = [f for f in os.listdir(class_folder) if f.lower().endswith('.png')]\n",
    "            for filename in image_files:\n",
    "                samples.append((os.path.join(class_folder, filename), idx))\n",
    "        if max_samples is not None:\n",
    "            samples = samples[:max_samples]\n",
    "        self.samples = samples\n",
    "    def __len__(self):\n",
    "        return len(self.samples)\n",
    "    def __getitem__(self, idx):\n",
    "        path, label = self.samples[idx]\n",
    "        image = Image.open(path).convert(\"RGB\")\n",
    "        if self.transform:\n",
    "            image = self.transform(image)\n",
    "        label = torch.tensor(label, dtype=torch.long)\n",
    "        return image, label"
   ]
  },
  {
   "cell_type": "markdown",
   "metadata": {},
   "source": [
    "## Data Preparation"
   ]
  },
  {
   "cell_type": "code",
   "execution_count": null,
   "metadata": {},
   "outputs": [
    {
     "name": "stdout",
     "output_type": "stream",
     "text": [
      "Train/val split: 1262/316\n"
     ]
    }
   ],
   "source": [
    "# Paths and class names\n",
    "image_root_dir = \"./data/Dataset_BUSI_with_GT\" \n",
    "class_names = [\"normal\", \"benign\", \"malignant\"]\n",
    "\n",
    "# CLIP preprocessing\n",
    "preprocess = transforms.Compose([\n",
    "    transforms.Resize((224, 224)),\n",
    "    transforms.ToTensor(),\n",
    "    transforms.Normalize((0.48145466, 0.4578275, 0.40821073), (0.26862954, 0.26130258, 0.27577711))\n",
    "])\n",
    "\n",
    "# Load dataset and split\n",
    "full_dataset = BreastUltrasoundDataset(image_root_dir, transform=preprocess)\n",
    "train_size = int(0.8 * len(full_dataset))\n",
    "val_size = len(full_dataset) - train_size\n",
    "train_dataset, val_dataset = random_split(full_dataset, [train_size, val_size])\n",
    "\n",
    "batch_size = 4\n",
    "train_loader = DataLoader(train_dataset, batch_size=batch_size, shuffle=True, num_workers=0)\n",
    "val_loader = DataLoader(val_dataset, batch_size=batch_size, shuffle=False, num_workers=0)\n",
    "print(f\"Train/val split: {len(train_dataset)}/{len(val_dataset)}\")"
   ]
  },
  {
   "cell_type": "markdown",
   "metadata": {},
   "source": [
    "## Load CLIP Model"
   ]
  },
  {
   "cell_type": "code",
   "execution_count": 5,
   "metadata": {},
   "outputs": [
    {
     "name": "stdout",
     "output_type": "stream",
     "text": [
      "Loaded CLIP: ViT-B/32\n"
     ]
    }
   ],
   "source": [
    "model_name = \"ViT-B/32\"\n",
    "clip_model, _ = clip.load(model_name, device=device)\n",
    "clip_model.eval()\n",
    "print(f\"Loaded CLIP: {model_name}\")"
   ]
  },
  {
   "cell_type": "markdown",
   "metadata": {},
   "source": [
    "## Zero-Shot Evaluation (CLIP Only)"
   ]
  },
  {
   "cell_type": "code",
   "execution_count": 6,
   "metadata": {},
   "outputs": [
    {
     "name": "stderr",
     "output_type": "stream",
     "text": [
      "Evaluating: 100%|██████████| 79/79 [00:22<00:00,  3.58it/s]"
     ]
    },
    {
     "name": "stdout",
     "output_type": "stream",
     "text": [
      "Zero-shot accuracy: 21.52%\n"
     ]
    },
    {
     "name": "stderr",
     "output_type": "stream",
     "text": [
      "\n"
     ]
    }
   ],
   "source": [
    "def evaluate_clip_on_dataset(model, dataloader, class_names):\n",
    "    correct = 0\n",
    "    total = 0\n",
    "    prompts = [f'an ultrasound image of {c} breast tissue' for c in class_names]\n",
    "    text_tokens = clip.tokenize(prompts).to(device)\n",
    "    with torch.no_grad():\n",
    "        text_features = model.encode_text(text_tokens)\n",
    "        text_features /= text_features.norm(dim=-1, keepdim=True)\n",
    "    with torch.no_grad():\n",
    "        for images, labels in tqdm(dataloader, desc=\"Evaluating\"):\n",
    "            images, labels = images.to(device), labels.to(device)\n",
    "            batch_size = images.shape[0]\n",
    "            chunk_size = 2\n",
    "            all_predictions = []\n",
    "            for i in range(0, batch_size, chunk_size):\n",
    "                chunk_images = images[i:i+chunk_size]\n",
    "                chunk_image_features = model.encode_image(chunk_images)\n",
    "                chunk_image_features /= chunk_image_features.norm(dim=-1, keepdim=True)\n",
    "                chunk_similarity = chunk_image_features @ text_features.T\n",
    "                _, chunk_predicted = chunk_similarity.max(1)\n",
    "                all_predictions.extend(chunk_predicted.tolist())\n",
    "            predictions = torch.tensor(all_predictions, device=device)\n",
    "            total += labels.size(0)\n",
    "            correct += (predictions == labels).sum().item()\n",
    "    accuracy = 100 * correct / total\n",
    "    print(f\"Zero-shot accuracy: {accuracy:.2f}%\")\n",
    "    return accuracy\n",
    "\n",
    "clip_zeroshot_acc = evaluate_clip_on_dataset(clip_model, val_loader, class_names)"
   ]
  },
  {
   "cell_type": "markdown",
   "metadata": {},
   "source": [
    "## Fine-Tuning: Linear Layer on CLIP Visual Features"
   ]
  },
  {
   "cell_type": "code",
   "execution_count": 7,
   "metadata": {},
   "outputs": [],
   "source": [
    "class CLIPFineTuner:\n",
    "    \"\"\"Fine-tuning class for BUSI/CLIP.\"\"\"\n",
    "    def __init__(self, clip_model, class_count, learning_rate=1e-3):\n",
    "        self.clip_model = clip_model.eval()\n",
    "        for param in self.clip_model.parameters():\n",
    "            param.requires_grad = False\n",
    "        feature_dim = clip_model.visual.output_dim\n",
    "        self.classifier = nn.Linear(feature_dim, class_count).to(device)\n",
    "        self.optimizer = optim.Adam(self.classifier.parameters(), lr=learning_rate)\n",
    "        self.loss_fn = nn.CrossEntropyLoss()\n",
    "    def train_step(self, images, labels):\n",
    "        self.optimizer.zero_grad()\n",
    "        with torch.no_grad():\n",
    "            image_features = self.clip_model.encode_image(images)\n",
    "        logits = self.classifier(image_features)\n",
    "        loss = self.loss_fn(logits, labels)\n",
    "        loss.backward()\n",
    "        self.optimizer.step()\n",
    "        return loss.item()\n",
    "    def train_epoch(self, dataloader):\n",
    "        self.clip_model.eval()\n",
    "        self.classifier.train()\n",
    "        total_loss, correct, total_samples, batch_count = 0, 0, 0, 0\n",
    "        for images, labels in tqdm(dataloader, desc=\"Training\"):\n",
    "            images, labels = images.to(device), labels.to(device)\n",
    "            loss = self.train_step(images, labels)\n",
    "            total_loss += loss\n",
    "            with torch.no_grad():\n",
    "                image_features = self.clip_model.encode_image(images)\n",
    "                logits = self.classifier(image_features)\n",
    "                predictions = logits.argmax(dim=1)\n",
    "                correct += (predictions == labels).sum().item()\n",
    "                total_samples += labels.size(0)\n",
    "            batch_count += 1\n",
    "        avg_loss = total_loss / batch_count\n",
    "        train_acc = 100 * correct / total_samples\n",
    "        return avg_loss, train_acc\n",
    "    def evaluate(self, dataloader):\n",
    "        self.clip_model.eval()\n",
    "        self.classifier.eval()\n",
    "        correct, total = 0, 0\n",
    "        with torch.no_grad():\n",
    "            for images, labels in tqdm(dataloader, desc=\"Evaluating\"):\n",
    "                images, labels = images.to(device), labels.to(device)\n",
    "                image_features = self.clip_model.encode_image(images)\n",
    "                logits = self.classifier(image_features)\n",
    "                predictions = logits.argmax(dim=1)\n",
    "                correct += (predictions == labels).sum().item()\n",
    "                total += labels.size(0)\n",
    "        accuracy = 100 * correct / total\n",
    "        print(f\"Fine-tuned accuracy: {accuracy:.2f}%\")\n",
    "        return accuracy"
   ]
  },
  {
   "cell_type": "markdown",
   "metadata": {},
   "source": [
    "## Run Training & Evaluation"
   ]
  },
  {
   "cell_type": "code",
   "execution_count": null,
   "metadata": {},
   "outputs": [],
   "source": [
    "layer_names = [name for name, _ in tuner.classifier.named_parameters()]\n",
    "num_layers = len(layer_names)\n",
    "num_epochs = 3 \n",
    "layerwise_grads = np.zeros((num_layers, num_epochs))\n",
    "for epoch in range(epochs):\n",
    "    train_loss, train_acc = tuner.train_epoch(train_loader)\n",
    "    grads = []\n",
    "    for idx, (name, param) in enumerate(tuner.classifier.named_parameters()):\n",
    "        if param.grad is not None:\n",
    "            grads.append(param.grad.detach().abs().mean().cpu().item())\n",
    "        else:\n",
    "            grads.append(0.0)\n",
    "        layerwise_grads[idx, epoch] = grads[-1]\n",
    "    val_acc = tuner.evaluate(val_loader)"
   ]
  },
  {
   "cell_type": "code",
   "execution_count": null,
   "metadata": {},
   "outputs": [],
   "source": [
    "import matplotlib.pyplot as plt\n",
    "import numpy as np\n",
    "plt.figure(figsize=(8, 4))\n",
    "im = plt.imshow(layerwise_grads, aspect='auto', cmap='hot')\n",
    "plt.colorbar(im, label='Mean Gradient')\n",
    "plt.xticks(range(num_epochs), [f'Epoch {i+1}' for i in range(num_epochs)])\n",
    "plt.yticks(range(num_layers), layer_names)\n",
    "plt.xlabel('Epoch')\n",
    "plt.ylabel('Layer')\n",
    "plt.title('Layer-wise Mean Gradients Over Epochs')\n",
    "plt.tight_layout()\n",
    "plt.show()"
   ]
  },
  {
   "cell_type": "code",
   "execution_count": 8,
   "metadata": {},
   "outputs": [
    {
     "name": "stdout",
     "output_type": "stream",
     "text": [
      "\n",
      "Epoch 1/3\n"
     ]
    },
    {
     "name": "stderr",
     "output_type": "stream",
     "text": [
      "Training: 100%|██████████| 316/316 [02:13<00:00,  2.38it/s]\n"
     ]
    },
    {
     "name": "stdout",
     "output_type": "stream",
     "text": [
      "Train loss: 0.6129 | Train acc: 75.99%\n"
     ]
    },
    {
     "name": "stderr",
     "output_type": "stream",
     "text": [
      "Evaluating: 100%|██████████| 79/79 [00:18<00:00,  4.27it/s]\n"
     ]
    },
    {
     "name": "stdout",
     "output_type": "stream",
     "text": [
      "Fine-tuned accuracy: 84.49%\n",
      "\n",
      "Epoch 2/3\n"
     ]
    },
    {
     "name": "stderr",
     "output_type": "stream",
     "text": [
      "Training: 100%|██████████| 316/316 [02:02<00:00,  2.58it/s]\n"
     ]
    },
    {
     "name": "stdout",
     "output_type": "stream",
     "text": [
      "Train loss: 0.4099 | Train acc: 85.34%\n"
     ]
    },
    {
     "name": "stderr",
     "output_type": "stream",
     "text": [
      "Evaluating: 100%|██████████| 79/79 [00:16<00:00,  4.77it/s]\n"
     ]
    },
    {
     "name": "stdout",
     "output_type": "stream",
     "text": [
      "Fine-tuned accuracy: 84.49%\n",
      "\n",
      "Epoch 3/3\n"
     ]
    },
    {
     "name": "stderr",
     "output_type": "stream",
     "text": [
      "Training: 100%|██████████| 316/316 [02:08<00:00,  2.47it/s]\n"
     ]
    },
    {
     "name": "stdout",
     "output_type": "stream",
     "text": [
      "Train loss: 0.3587 | Train acc: 86.61%\n"
     ]
    },
    {
     "name": "stderr",
     "output_type": "stream",
     "text": [
      "Evaluating: 100%|██████████| 79/79 [00:16<00:00,  4.66it/s]"
     ]
    },
    {
     "name": "stdout",
     "output_type": "stream",
     "text": [
      "Fine-tuned accuracy: 87.97%\n"
     ]
    },
    {
     "name": "stderr",
     "output_type": "stream",
     "text": [
      "\n"
     ]
    }
   ],
   "source": [
    "epochs = 3\n",
    "tuner = CLIPFineTuner(clip_model, len(class_names))\n",
    "\n",
    "losses = []\n",
    "train_accuracies = []\n",
    "val_accuracies = []\n",
    "\n",
    "for epoch in range(epochs):\n",
    "    print(f\"\\nEpoch {epoch+1}/{epochs}\")\n",
    "    train_loss, train_acc = tuner.train_epoch(train_loader)\n",
    "    print(f\"Train loss: {train_loss:.4f} | Train acc: {train_acc:.2f}%\")\n",
    "    val_acc = tuner.evaluate(val_loader)\n",
    "    losses.append(train_loss)\n",
    "    train_accuracies.append(train_acc)\n",
    "    val_accuracies.append(val_acc)"
   ]
  },
  {
   "cell_type": "code",
   "execution_count": 10,
   "metadata": {},
   "outputs": [
    {
     "data": {
      "image/png": "[encoded data removed]",
      "text/plain": [
       "<Figure size 900x400 with 1 Axes>"
      ]
     },
     "metadata": {},
     "output_type": "display_data"
    },
    {
     "data": {
      "image/png": "[encoded data removed]",
      "text/plain": [
       "<Figure size 900x400 with 1 Axes>"
      ]
     },
     "metadata": {},
     "output_type": "display_data"
    }
   ],
   "source": [
    "import matplotlib.pyplot as plt\n",
    "import numpy as np\n",
    "\n",
    "plt.figure()\n",
    "plt.title('Training Loss over Epochs')\n",
    "plt.plot(losses, marker='o', label='Training Loss')\n",
    "plt.xlabel('Epoch')\n",
    "plt.ylabel('Loss')\n",
    "plt.gcf().set_size_inches(9, 4)\n",
    "plt.legend(loc='upper right')\n",
    "plt.show()\n",
    "plt.figure()\n",
    "plt.title('Training and Validation Accuracies over Epochs')\n",
    "plt.plot(train_accuracies, '-o', label='Training Accuracy')\n",
    "plt.plot(val_accuracies, '-o', label='Validation Accuracy')\n",
    "plt.xlabel('Epoch')\n",
    "plt.ylabel('Accuracy (%)')\n",
    "plt.legend(['Training', 'Validation'], loc='upper left')\n",
    "plt.gcf().set_size_inches(9, 4)\n",
    "plt.show()"
   ]
  },
  {
   "cell_type": "markdown",
   "metadata": {},
   "source": [
    "## Save/Load Model Utility"
   ]
  },
  {
   "cell_type": "code",
   "execution_count": 11,
   "metadata": {},
   "outputs": [],
   "source": [
    "def save_model(model, optimizer, epoch, path=\"saved_models/fine_tuned_clip_busi.pt\"):\n",
    "    os.makedirs(os.path.dirname(path), exist_ok=True)\n",
    "    torch.save({\n",
    "        'epoch': epoch,\n",
    "        'model_state_dict': model.classifier.state_dict(),\n",
    "        'optimizer_state_dict': optimizer.state_dict()\n",
    "    }, path)\n",
    "    print(f\"Model saved at epoch {epoch + 1} to: {path}\")\n",
    "\n",
    "def load_fine_tuned_model(model, path=\"saved_models/fine_tuned_clip_busi.pt\"):\n",
    "    if os.path.exists(path):\n",
    "        checkpoint = torch.load(path, map_location=device)\n",
    "        model.classifier.load_state_dict(checkpoint['model_state_dict'])\n",
    "        print(f\"Successfully loaded fine-tuned model from: {path}\")\n",
    "        return model\n",
    "    else:\n",
    "        print(f\"No saved model found at: {path}. Ensure the path is correct.\")\n",
    "        return None"
   ]
  }
 ],
 "metadata": {
  "kernelspec": {
   "display_name": "clip",
   "language": "python",
   "name": "python3"
  },
  "language_info": {
   "codemirror_mode": {
    "name": "ipython",
    "version": 3
   },
   "file_extension": ".py",
   "mimetype": "text/x-python",
   "name": "python",
   "nbconvert_exporter": "python",
   "pygments_lexer": "ipython3",
   "version": "3.8.20"
  }
 },
 "nbformat": 4,
 "nbformat_minor": 2
}
